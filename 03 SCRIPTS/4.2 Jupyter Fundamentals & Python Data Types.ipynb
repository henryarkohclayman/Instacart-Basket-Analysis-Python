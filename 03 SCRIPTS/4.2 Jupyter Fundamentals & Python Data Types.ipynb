{
 "cells": [
  {
   "cell_type": "markdown",
   "id": "ec17209f-5359-4f89-8a4e-ed519f0bc0e9",
   "metadata": {},
   "source": [
    "Importing libraries"
   ]
  },
  {
   "cell_type": "code",
   "execution_count": 1,
   "id": "f0f9f19c-82f6-461d-bc7f-db751f6f4d8c",
   "metadata": {},
   "outputs": [],
   "source": [
    "# import libraries\n",
    "import pandas as pd\n",
    "import numpy as pd\n",
    "import os"
   ]
  },
  {
   "cell_type": "markdown",
   "id": "83d6b9f4-4acf-42e5-801a-32f0692eb0bf",
   "metadata": {},
   "source": [
    "Python Data Types"
   ]
  },
  {
   "cell_type": "code",
   "execution_count": 15,
   "id": "028bfc3a-460d-4ed1-ac55-416907beeb84",
   "metadata": {},
   "outputs": [
    {
     "name": "stdout",
     "output_type": "stream",
     "text": [
      "100\n"
     ]
    }
   ],
   "source": [
    "a = 50\n",
    "b = 50\n",
    "result_1 = a + b\n",
    "print(result_1)"
   ]
  },
  {
   "cell_type": "code",
   "execution_count": 17,
   "id": "dfb5a91f-36d7-4aa8-b6a6-754d8d206c12",
   "metadata": {},
   "outputs": [
    {
     "name": "stdout",
     "output_type": "stream",
     "text": [
      "100\n"
     ]
    }
   ],
   "source": [
    "x = 200\n",
    "y = 100\n",
    "result_2 = x-y\n",
    "print(result_2)"
   ]
  },
  {
   "cell_type": "code",
   "execution_count": 19,
   "id": "802da34c-a97a-4f79-a252-96d9b82155d7",
   "metadata": {},
   "outputs": [
    {
     "name": "stdout",
     "output_type": "stream",
     "text": [
      "100\n"
     ]
    }
   ],
   "source": [
    "m = 120\n",
    "n = 20\n",
    "result_3 = m-n\n",
    "print(result_3)"
   ]
  },
  {
   "cell_type": "code",
   "execution_count": 21,
   "id": "3962f0a4-cefc-40de-b03a-40f0deb2fb71",
   "metadata": {},
   "outputs": [
    {
     "name": "stdout",
     "output_type": "stream",
     "text": [
      "4.2\n"
     ]
    }
   ],
   "source": [
    "float_1 = 10.5\n",
    "float_2 = 2.5\n",
    "Division_result = float_1/float_2\n",
    "print(Division_result)\n"
   ]
  },
  {
   "cell_type": "code",
   "execution_count": 25,
   "id": "fe4b0f7d-dfca-4190-9b17-dc203b392dfb",
   "metadata": {},
   "outputs": [
    {
     "name": "stdout",
     "output_type": "stream",
     "text": [
      "today\n"
     ]
    }
   ],
   "source": [
    "part_1 = 'to'\n",
    "part_2 = 'day'\n",
    "word = part_1+part_2\n",
    "print(word)"
   ]
  },
  {
   "cell_type": "code",
   "execution_count": 29,
   "id": "fc2d5df3-aca0-40f9-b566-5e7c5c119190",
   "metadata": {},
   "outputs": [
    {
     "name": "stdout",
     "output_type": "stream",
     "text": [
      "It is a good day\n"
     ]
    }
   ],
   "source": [
    "Sentence_P1 = 'It is a'\n",
    "Sentence_P2 = ' good day'\n",
    "Sentence_1 = Sentence_P1 + Sentence_P2\n",
    "print(Sentence_1)"
   ]
  },
  {
   "cell_type": "code",
   "execution_count": 37,
   "id": "2766329c-184f-4353-b1a2-12778338f204",
   "metadata": {},
   "outputs": [
    {
     "name": "stdout",
     "output_type": "stream",
     "text": [
      "Pass me the ball\n"
     ]
    }
   ],
   "source": [
    "Sentence_P3 = 'Pass me '\n",
    "Sentence_P4 = 'the ball'\n",
    "Sentence_2 = Sentence_P3 + Sentence_P4\n",
    "print(Sentence_2)"
   ]
  },
  {
   "cell_type": "code",
   "execution_count": null,
   "id": "386f5673-2515-4fdb-ad74-6f6bdc89cc8a",
   "metadata": {},
   "outputs": [],
   "source": []
  }
 ],
 "metadata": {
  "kernelspec": {
   "display_name": "Python [conda env:base] *",
   "language": "python",
   "name": "conda-base-py"
  },
  "language_info": {
   "codemirror_mode": {
    "name": "ipython",
    "version": 3
   },
   "file_extension": ".py",
   "mimetype": "text/x-python",
   "name": "python",
   "nbconvert_exporter": "python",
   "pygments_lexer": "ipython3",
   "version": "3.12.7"
  }
 },
 "nbformat": 4,
 "nbformat_minor": 5
}
